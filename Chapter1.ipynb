{
 "cells": [
  {
   "cell_type": "code",
   "execution_count": 3,
   "metadata": {},
   "outputs": [
    {
     "name": "stdout",
     "output_type": "stream",
     "text": [
      "3.10.9 (main, Mar  1 2023, 18:23:06) [GCC 11.2.0]\n",
      "2.0.0+cu117\n",
      "True\n"
     ]
    }
   ],
   "source": [
    "import sys\n",
    "import torch\n",
    "\n",
    "#print python version\n",
    "print(sys.version)\n",
    "\n",
    "#print pytorch version\n",
    "print(torch.__version__)\n",
    "\n",
    "#check if GPU is available\n",
    "print(torch.cuda.is_available())\n"
   ]
  },
  {
   "cell_type": "markdown",
   "metadata": {},
   "source": [
    "This code prints the version of Python and PyTorch installed on the system, as well as whether a GPU is available for use with PyTorch.\n",
    "\n",
    "The `sys.version` variable contains the version of Python installed on the system. The `print()` function is used to print this version to the console.\n",
    "\n",
    "The `torch.__version__` variable contains the version of PyTorch installed on the system. The `print()` function is used to print this version to the console.\n",
    "\n",
    "The `torch.cuda.is_available()` function returns a boolean value indicating whether a GPU is available for use with PyTorch. The `print()` function is used to print this value to the console. If the value is `True`, then a GPU is available for use with PyTorch. If the value is `False`, then a GPU is not available and PyTorch will use the CPU for computations."
   ]
  }
 ],
 "metadata": {
  "kernelspec": {
   "display_name": "base",
   "language": "python",
   "name": "python3"
  },
  "language_info": {
   "codemirror_mode": {
    "name": "ipython",
    "version": 3
   },
   "file_extension": ".py",
   "mimetype": "text/x-python",
   "name": "python",
   "nbconvert_exporter": "python",
   "pygments_lexer": "ipython3",
   "version": "3.10.9"
  },
  "orig_nbformat": 4
 },
 "nbformat": 4,
 "nbformat_minor": 2
}
