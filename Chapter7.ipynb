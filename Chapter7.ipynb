{
 "cells": [
  {
   "cell_type": "code",
   "execution_count": 1,
   "metadata": {},
   "outputs": [],
   "source": [
    "import torch\n",
    "import torch.nn as nn\n",
    "import torch.optim as optim\n",
    "from torchvision import datasets, transforms\n",
    "from sklearn.model_selection import train_test_split\n",
    "import matplotlib as mpl\n",
    "import matplotlib.pyplot as plt\n",
    "import numpy as np\n",
    "%matplotlib inline\n",
    "from warnings import filterwarnings\n",
    "import warnings\n",
    "warnings.filterwarnings(\"ignore\", message=\"Clipping input data to the valid range for imshow with RGB data\")\n",
    "mpl.rcParams['figure.figsize'] = (2, 2); mpl.rcParams['figure.dpi'] = 200"
   ]
  },
  {
   "cell_type": "code",
   "execution_count": 2,
   "metadata": {},
   "outputs": [
    {
     "name": "stderr",
     "output_type": "stream",
     "text": [
      "/home/nordin/anaconda3/lib/python3.10/site-packages/torch/__init__.py:615: UserWarning: torch.set_default_tensor_type() is deprecated as of PyTorch 2.1, please use torch.set_default_dtype() and torch.set_default_device() as alternatives. (Triggered internally at ../torch/csrc/tensor/python_tensor.cpp:451.)\n",
      "  _C._set_default_tensor_type(t)\n"
     ]
    }
   ],
   "source": [
    "#use gpu for torch\n",
    "torch.cuda.set_device(0)\n",
    "torch.set_default_tensor_type(torch.cuda.FloatTensor)"
   ]
  },
  {
   "cell_type": "code",
   "execution_count": 3,
   "metadata": {},
   "outputs": [
    {
     "name": "stdout",
     "output_type": "stream",
     "text": [
      "Files already downloaded and verified\n",
      "Files already downloaded and verified\n"
     ]
    }
   ],
   "source": [
    "data_path = '../../data/dlwp/p1ch7/'\n",
    "cifar10 = datasets.CIFAR10(data_path, train=True, download=True)\n",
    "cifar10_val = datasets.CIFAR10(data_path, train=False, download=True)   #train=False for validation set"
   ]
  },
  {
   "cell_type": "code",
   "execution_count": 4,
   "metadata": {},
   "outputs": [
    {
     "data": {
      "text/plain": [
       "(torchvision.datasets.cifar.CIFAR10,\n",
       " torchvision.datasets.vision.VisionDataset,\n",
       " torch.utils.data.dataset.Dataset,\n",
       " typing.Generic,\n",
       " object)"
      ]
     },
     "execution_count": 4,
     "metadata": {},
     "output_type": "execute_result"
    }
   ],
   "source": [
    "type(cifar10).__mro__"
   ]
  },
  {
   "cell_type": "markdown",
   "metadata": {},
   "source": [
    "Method Resolution Order: (MRO) denotes the way a programming language resolves a method or attribute."
   ]
  },
  {
   "cell_type": "code",
   "execution_count": 5,
   "metadata": {},
   "outputs": [
    {
     "data": {
      "text/plain": [
       "50000"
      ]
     },
     "execution_count": 5,
     "metadata": {},
     "output_type": "execute_result"
    }
   ],
   "source": [
    "len(cifar10)    #works because the dataset class implements __len__ method"
   ]
  },
  {
   "cell_type": "code",
   "execution_count": 6,
   "metadata": {},
   "outputs": [
    {
     "data": {
      "text/plain": [
       "(<PIL.Image.Image image mode=RGB size=32x32>, 8, 'ship')"
      ]
     },
     "execution_count": 6,
     "metadata": {},
     "output_type": "execute_result"
    }
   ],
   "source": [
    "img, label = cifar10[69]\n",
    "class_names = ['airplane',\n",
    "                'automobile',\n",
    "                'bird',\n",
    "                'cat',\n",
    "                'deer',\n",
    "                'dog',\n",
    "                'frog',\n",
    "                'horse',\n",
    "                'ship',\n",
    "                'truck']\n",
    "\n",
    "img, label, class_names[label]\n"
   ]
  },
  {
   "cell_type": "code",
   "execution_count": 7,
   "metadata": {},
   "outputs": [
    {
     "data": {
      "image/png": "[encoded data removed]",
      "text/plain": [
       "<Figure size 400x400 with 1 Axes>"
      ]
     },
     "metadata": {},
     "output_type": "display_data"
    }
   ],
   "source": [
    "plt.xticks(list(range(0, 40, 5)), minor=True); plt.yticks(list(range(0, 40, 5)), minor=True)\n",
    "plt.imshow(img);"
   ]
  },
  {
   "cell_type": "code",
   "execution_count": 8,
   "metadata": {},
   "outputs": [
    {
     "data": {
      "text/plain": [
       "['AugMix',\n",
       " 'AutoAugment',\n",
       " 'AutoAugmentPolicy',\n",
       " 'CenterCrop',\n",
       " 'ColorJitter',\n",
       " 'Compose',\n",
       " 'ConvertImageDtype',\n",
       " 'ElasticTransform',\n",
       " 'FiveCrop',\n",
       " 'GaussianBlur',\n",
       " 'Grayscale',\n",
       " 'InterpolationMode',\n",
       " 'Lambda',\n",
       " 'LinearTransformation',\n",
       " 'Normalize',\n",
       " 'PILToTensor',\n",
       " 'Pad',\n",
       " 'RandAugment',\n",
       " 'RandomAdjustSharpness',\n",
       " 'RandomAffine',\n",
       " 'RandomApply',\n",
       " 'RandomAutocontrast',\n",
       " 'RandomChoice',\n",
       " 'RandomCrop',\n",
       " 'RandomEqualize',\n",
       " 'RandomErasing',\n",
       " 'RandomGrayscale',\n",
       " 'RandomHorizontalFlip',\n",
       " 'RandomInvert',\n",
       " 'RandomOrder',\n",
       " 'RandomPerspective',\n",
       " 'RandomPosterize',\n",
       " 'RandomResizedCrop',\n",
       " 'RandomRotation',\n",
       " 'RandomSolarize',\n",
       " 'RandomVerticalFlip',\n",
       " 'Resize',\n",
       " 'TenCrop',\n",
       " 'ToPILImage',\n",
       " 'ToTensor',\n",
       " 'TrivialAugmentWide',\n",
       " '__builtins__',\n",
       " '__cached__',\n",
       " '__doc__',\n",
       " '__file__',\n",
       " '__loader__',\n",
       " '__name__',\n",
       " '__package__',\n",
       " '__path__',\n",
       " '__spec__',\n",
       " '_functional_pil',\n",
       " '_functional_tensor',\n",
       " '_presets',\n",
       " 'autoaugment',\n",
       " 'functional',\n",
       " 'transforms']"
      ]
     },
     "execution_count": 8,
     "metadata": {},
     "output_type": "execute_result"
    }
   ],
   "source": [
    "dir(transforms) # list all the functions in the transforms module"
   ]
  },
  {
   "cell_type": "code",
   "execution_count": 9,
   "metadata": {},
   "outputs": [
    {
     "data": {
      "text/plain": [
       "torch.Size([3, 32, 32])"
      ]
     },
     "execution_count": 9,
     "metadata": {},
     "output_type": "execute_result"
    }
   ],
   "source": [
    "to_tensor = transforms.ToTensor()\n",
    "img_t = to_tensor(img)\n",
    "img_t.shape     #C x H x W"
   ]
  },
  {
   "cell_type": "code",
   "execution_count": 10,
   "metadata": {},
   "outputs": [],
   "source": [
    "tensor_cifar10 = datasets.CIFAR10(data_path, train=True, download=False,\n",
    "                                    transform=to_tensor)"
   ]
  },
  {
   "cell_type": "code",
   "execution_count": 11,
   "metadata": {},
   "outputs": [
    {
     "data": {
      "text/plain": [
       "(tensor(0.1647, device='cpu'), tensor(0.9765, device='cpu'))"
      ]
     },
     "execution_count": 11,
     "metadata": {},
     "output_type": "execute_result"
    }
   ],
   "source": [
    "img_t.min(), img_t.max()    #ToTensor() converts the image to a tensor and scales the values to [0, 1]"
   ]
  },
  {
   "cell_type": "code",
   "execution_count": 12,
   "metadata": {},
   "outputs": [
    {
     "data": {
      "image/png": "[encoded data removed]",
      "text/plain": [
       "<Figure size 400x400 with 1 Axes>"
      ]
     },
     "metadata": {},
     "output_type": "display_data"
    }
   ],
   "source": [
    "plt.imshow(img_t.permute(1, 2, 0))\n",
    "plt.show()"
   ]
  },
  {
   "cell_type": "code",
   "execution_count": 13,
   "metadata": {},
   "outputs": [
    {
     "data": {
      "text/plain": [
       "torch.Size([3, 32, 32, 50000])"
      ]
     },
     "execution_count": 13,
     "metadata": {},
     "output_type": "execute_result"
    }
   ],
   "source": [
    "imgs = torch.stack([img_t for img_t, _ in tensor_cifar10],\n",
    "                    dim=3 #stacking along the 4th dimension\n",
    "                    ) \n",
    "imgs.shape"
   ]
  },
  {
   "cell_type": "markdown",
   "metadata": {},
   "source": [
    "That's how we stack all of the dataset together in a single tensor cached in memory. This is doable in this case because of the small size of the dataset. For larger datasets, we will need to load and preprocess the data on the fly."
   ]
  },
  {
   "cell_type": "code",
   "execution_count": 14,
   "metadata": {},
   "outputs": [
    {
     "data": {
      "text/plain": [
       "tensor([0.4914, 0.4822, 0.4465], device='cpu')"
      ]
     },
     "execution_count": 14,
     "metadata": {},
     "output_type": "execute_result"
    }
   ],
   "source": [
    "imgs.view(3, -1).mean(dim=1)"
   ]
  },
  {
   "cell_type": "markdown",
   "metadata": {},
   "source": [
    "the method `.view(3, -1)` returns a view of the same data in the shape 3 (which is the color channels) and the remaining dimension is inferred from the data (aka. the rest of the dimensions are flattened into one dimension). This means that we now calculate the mean for all pixels in the whole dataset, for each color channel."
   ]
  },
  {
   "cell_type": "code",
   "execution_count": 15,
   "metadata": {},
   "outputs": [
    {
     "data": {
      "text/plain": [
       "tensor([0.2470, 0.2435, 0.2616], device='cpu')"
      ]
     },
     "execution_count": 15,
     "metadata": {},
     "output_type": "execute_result"
    }
   ],
   "source": [
    "imgs.view(3, -1).std(dim=1) #same as above but with std"
   ]
  },
  {
   "cell_type": "code",
   "execution_count": 16,
   "metadata": {},
   "outputs": [
    {
     "data": {
      "text/plain": [
       "Normalize(mean=(0.4915, 0.4823, 0.4468), std=(0.247, 0.2435, 0.2616))"
      ]
     },
     "execution_count": 16,
     "metadata": {},
     "output_type": "execute_result"
    }
   ],
   "source": [
    "transforms.Normalize((0.4915, 0.4823, 0.4468), (0.2470, 0.2435, 0.2616))\n",
    "#note that these parameters are given beforehand for popular datasets"
   ]
  },
  {
   "cell_type": "markdown",
   "metadata": {},
   "source": [
    "Here we inistantiate the normalizer using the parameters we just found. We then use the normalizer to transform the data. We can see that the mean is now 0 and the standard deviation is 1."
   ]
  },
  {
   "cell_type": "code",
   "execution_count": 17,
   "metadata": {},
   "outputs": [],
   "source": [
    "transformed_cifar10 = datasets.CIFAR10(data_path, train=True, download=False,\n",
    "                            transform=transforms.Compose([\n",
    "                                transforms.ToTensor(),\n",
    "                                transforms.Normalize((0.4915, 0.4823, 0.4468),\n",
    "                                                    (0.2470, 0.2435, 0.2616))]))"
   ]
  },
  {
   "cell_type": "code",
   "execution_count": 18,
   "metadata": {},
   "outputs": [],
   "source": [
    "transformed_cifar10_val = datasets.CIFAR10(data_path, train=False, download=False,\n",
    "                            transform=transforms.Compose([\n",
    "                                transforms.ToTensor(),\n",
    "                                transforms.Normalize((0.4915, 0.4823, 0.4468),\n",
    "                                                    (0.2470, 0.2435, 0.2616))]),)"
   ]
  },
  {
   "cell_type": "code",
   "execution_count": 19,
   "metadata": {},
   "outputs": [
    {
     "name": "stderr",
     "output_type": "stream",
     "text": [
      "Clipping input data to the valid range for imshow with RGB data ([0..1] for floats or [0..255] for integers).\n"
     ]
    },
    {
     "data": {
      "image/png": "[encoded data removed]",
      "text/plain": [
       "<Figure size 400x400 with 1 Axes>"
      ]
     },
     "metadata": {},
     "output_type": "display_data"
    }
   ],
   "source": [
    "img_t, _ = transformed_cifar10[69]\n",
    "plt.imshow(img_t.permute(1, 2, 0))\n",
    "plt.show(); # the semicolon suppresses the output\n",
    "            # note that plt.show() is not necessary in Jupyter notebooks for inline backend"
   ]
  },
  {
   "cell_type": "code",
   "execution_count": 20,
   "metadata": {},
   "outputs": [
    {
     "data": {
      "text/plain": [
       "(tensor([[[ 0.4551,  0.0106, -0.3228,  ..., -0.5451, -0.6086, -0.7356],\n",
       "          [ 0.2329,  0.3123, -0.0053,  ..., -0.4657, -0.7674, -0.8626],\n",
       "          [ 0.2329,  0.2170, -0.1640,  ..., -0.7356, -0.9103, -0.9261],\n",
       "          ...,\n",
       "          [ 0.7886,  0.4869,  0.4551,  ..., -1.3231, -1.0214, -0.5133],\n",
       "          [ 0.6298,  0.4869,  0.5345,  ..., -0.3546, -0.0370,  0.0900],\n",
       "          [ 0.5980,  0.5187,  0.5980,  ...,  0.2805,  0.2805,  0.2805]],\n",
       " \n",
       "         [[ 0.8699,  0.2257, -0.3058,  ..., -0.4507, -0.5312, -0.6762],\n",
       "          [ 0.5961,  0.4834,  0.0324,  ..., -0.3863, -0.6923, -0.8050],\n",
       "          [ 0.5156,  0.3706, -0.1286,  ..., -0.6601, -0.8533, -0.8695],\n",
       "          ...,\n",
       "          [ 0.7088,  0.4995,  0.5961,  ..., -1.4331, -1.1271, -0.6440],\n",
       "          [ 0.4995,  0.4673,  0.6122,  ..., -0.4829, -0.1447, -0.0320],\n",
       "          [ 0.4028,  0.4028,  0.5317,  ...,  0.1613,  0.1774,  0.1613]],\n",
       " \n",
       "         [[ 1.0953,  0.3308, -0.2838,  ..., -0.6436, -0.6436, -0.6586],\n",
       "          [ 0.8255,  0.6006,  0.0610,  ..., -0.5387, -0.7785, -0.7935],\n",
       "          [ 0.7505,  0.5257, -0.0290,  ..., -0.7485, -0.8835, -0.8835],\n",
       "          ...,\n",
       "          [ 0.7805,  0.6906,  0.8405,  ..., -1.1683, -0.8535, -0.3438],\n",
       "          [ 0.2109,  0.2408,  0.4207,  ..., -0.2688,  0.0909,  0.2558],\n",
       "          [ 0.0909,  0.1209,  0.2858,  ...,  0.3758,  0.4207,  0.4507]]],\n",
       "        device='cpu'),\n",
       " 9)"
      ]
     },
     "execution_count": 20,
     "metadata": {},
     "output_type": "execute_result"
    }
   ],
   "source": [
    "transformed_cifar10[1]"
   ]
  },
  {
   "cell_type": "markdown",
   "metadata": {},
   "source": [
    "Look a bit cursed, but it's OK that's just for us, that's how the machine prefers."
   ]
  },
  {
   "cell_type": "code",
   "execution_count": 21,
   "metadata": {},
   "outputs": [],
   "source": [
    "class_names = ['airplane', 'bird']\n",
    "cifar2d = []\n",
    "cifar2l = []\n",
    "for i, j in transformed_cifar10:\n",
    "    if j in [0, 2]:\n",
    "        cifar2d.append(i)\n",
    "        cifar2l.append(0 if j == 0 else 1)"
   ]
  },
  {
   "cell_type": "code",
   "execution_count": 22,
   "metadata": {},
   "outputs": [],
   "source": [
    "cifar2d, cifar2d_val, cifar2l, cifar2l_val = train_test_split(cifar2d, cifar2l)"
   ]
  },
  {
   "cell_type": "code",
   "execution_count": 23,
   "metadata": {},
   "outputs": [
    {
     "name": "stderr",
     "output_type": "stream",
     "text": [
      "Clipping input data to the valid range for imshow with RGB data ([0..1] for floats or [0..255] for integers).\n",
      "Clipping input data to the valid range for imshow with RGB data ([0..1] for floats or [0..255] for integers).\n",
      "Clipping input data to the valid range for imshow with RGB data ([0..1] for floats or [0..255] for integers).\n"
     ]
    },
    {
     "data": {
      "image/png": "[encoded data removed]",
      "text/plain": [
       "<Figure size 1200x400 with 3 Axes>"
      ]
     },
     "metadata": {},
     "output_type": "display_data"
    }
   ],
   "source": [
    "fig, ax = plt.subplots(1, 3, figsize=(6, 2))\n",
    "for i in range(3):\n",
    "    ax[i].imshow(cifar2d[i*19].permute(1, 2, 0))\n",
    "    ax[i].axis(\"off\")\n",
    "    ax[i].title.set_text(class_names[cifar2l[i*19]])"
   ]
  },
  {
   "cell_type": "code",
   "execution_count": 24,
   "metadata": {},
   "outputs": [],
   "source": [
    "cifar2d_t = torch.stack(cifar2d).cuda()\n",
    "cifar2l_t = torch.Tensor(cifar2l).cuda()\n",
    "cifar2d_val_t = torch.stack(cifar2d_val).cuda()\n",
    "cifar2l_val_t = torch.Tensor(cifar2l_val).cuda()"
   ]
  },
  {
   "cell_type": "code",
   "execution_count": 25,
   "metadata": {},
   "outputs": [
    {
     "data": {
      "text/plain": [
       "device(type='cuda', index=0)"
      ]
     },
     "execution_count": 25,
     "metadata": {},
     "output_type": "execute_result"
    }
   ],
   "source": [
    "cifar2l_t.device"
   ]
  },
  {
   "cell_type": "code",
   "execution_count": 26,
   "metadata": {},
   "outputs": [],
   "source": [
    "n_out = 2\n",
    "model = nn.Sequential(nn.Linear(3*32*32, 512),\n",
    "                        nn.Tanh(),\n",
    "                        nn.Linear(512, n_out),\n",
    "                        nn.Softmax(dim=1)   # dim=1: sum of each row = 1\n",
    "                                            # the softmax layer ensures that the output\n",
    "                                            # is a valid probability distribution\n",
    "                        )"
   ]
  },
  {
   "cell_type": "code",
   "execution_count": 27,
   "metadata": {},
   "outputs": [
    {
     "name": "stderr",
     "output_type": "stream",
     "text": [
      "Clipping input data to the valid range for imshow with RGB data ([0..1] for floats or [0..255] for integers).\n"
     ]
    },
    {
     "data": {
      "image/png": "[encoded data removed]",
      "text/plain": [
       "<Figure size 400x400 with 1 Axes>"
      ]
     },
     "metadata": {},
     "output_type": "display_data"
    }
   ],
   "source": [
    "img = cifar2d[11]\n",
    "plt.imshow(img.permute(1, 2, 0))\n",
    "plt.show()"
   ]
  },
  {
   "cell_type": "code",
   "execution_count": 28,
   "metadata": {},
   "outputs": [],
   "source": [
    "img_batch = img.view(-1).unsqueeze(0).cuda()"
   ]
  },
  {
   "cell_type": "code",
   "execution_count": 29,
   "metadata": {},
   "outputs": [
    {
     "data": {
      "text/plain": [
       "tensor([[0.5017, 0.4983]], grad_fn=<SoftmaxBackward0>)"
      ]
     },
     "execution_count": 29,
     "metadata": {},
     "output_type": "execute_result"
    }
   ],
   "source": [
    "model.cuda()\n",
    "out = model(img_batch)\n",
    "out"
   ]
  },
  {
   "cell_type": "code",
   "execution_count": 30,
   "metadata": {},
   "outputs": [
    {
     "data": {
      "text/plain": [
       "'airplane'"
      ]
     },
     "execution_count": 30,
     "metadata": {},
     "output_type": "execute_result"
    }
   ],
   "source": [
    "_, index = torch.max(out, dim=1)    #so this is basically argmax\n",
    "class_names[index.item()]"
   ]
  },
  {
   "cell_type": "markdown",
   "metadata": {},
   "source": [
    "Well, luck isn't on our side this time! The model isn't fitted yet, so it's not surprising that it's not predicting anything. Let's train it first."
   ]
  },
  {
   "cell_type": "code",
   "execution_count": 31,
   "metadata": {},
   "outputs": [],
   "source": [
    "model = nn.Sequential(nn.Linear(3*32*32, 512),\n",
    "                        nn.Tanh(),\n",
    "                        nn.Linear(512, n_out),\n",
    "                        nn.LogSoftmax(dim=1)   #This is to make the calculation numerically stable \n",
    "                        )"
   ]
  },
  {
   "cell_type": "code",
   "execution_count": 32,
   "metadata": {},
   "outputs": [
    {
     "data": {
      "text/plain": [
       "tensor(0.5606, grad_fn=<NllLossBackward0>)"
      ]
     },
     "execution_count": 32,
     "metadata": {},
     "output_type": "execute_result"
    }
   ],
   "source": [
    "loss = nn.NLLLoss()\n",
    "img, label = cifar2d_t[0], cifar2l_t[0]\n",
    "out = model(img.view(-1).unsqueeze(0))\n",
    "loss(out, torch.tensor([label]).byte()) #note the conversion to byte tensor,\n",
    "                                        # this helped in fixing the error of nll_loss with float input\n",
    "                                        # note as well that all tensors should be on the same device             "
   ]
  },
  {
   "cell_type": "code",
   "execution_count": 33,
   "metadata": {},
   "outputs": [],
   "source": [
    "learning_rate = 1e-3\n",
    "optimizer = optim.SGD(model.parameters(), lr=learning_rate)"
   ]
  },
  {
   "cell_type": "code",
   "execution_count": 34,
   "metadata": {},
   "outputs": [
    {
     "name": "stdout",
     "output_type": "stream",
     "text": [
      "Epoch: 0, Loss: 0.573671\n",
      "Epoch: 1, Loss: 0.476590\n",
      "Epoch: 2, Loss: 0.392407\n",
      "Epoch: 3, Loss: 0.323812\n",
      "Epoch: 4, Loss: 0.264234\n",
      "Epoch: 5, Loss: 0.199017\n",
      "Epoch: 6, Loss: 0.118760\n",
      "Epoch: 7, Loss: 0.117233\n",
      "Epoch: 8, Loss: 0.095254\n",
      "Epoch: 9, Loss: 0.064888\n",
      "Epoch: 10, Loss: 0.068023\n",
      "Epoch: 11, Loss: 0.064254\n",
      "Epoch: 12, Loss: 0.076193\n",
      "Epoch: 13, Loss: 0.086150\n",
      "Epoch: 14, Loss: 0.035147\n",
      "Epoch: 15, Loss: 0.015249\n",
      "Epoch: 16, Loss: 0.005625\n",
      "Epoch: 17, Loss: 0.003843\n",
      "Epoch: 18, Loss: 0.001606\n",
      "Epoch: 19, Loss: 0.000935\n",
      "Epoch: 20, Loss: 0.000586\n",
      "Epoch: 21, Loss: 0.000059\n",
      "Epoch: 22, Loss: 0.000051\n",
      "Epoch: 23, Loss: 0.000017\n",
      "Epoch: 24, Loss: 0.000025\n",
      "Epoch: 25, Loss: 0.000015\n",
      "Epoch: 26, Loss: 0.000018\n",
      "Epoch: 27, Loss: 0.000017\n",
      "Epoch: 28, Loss: 0.000025\n",
      "Epoch: 29, Loss: 0.000016\n",
      "Epoch: 30, Loss: 0.000012\n",
      "Epoch: 31, Loss: 0.000011\n",
      "Epoch: 32, Loss: 0.000009\n",
      "Epoch: 33, Loss: 0.000009\n",
      "Epoch: 34, Loss: 0.000009\n",
      "Epoch: 35, Loss: 0.000007\n",
      "Epoch: 36, Loss: 0.000006\n",
      "Epoch: 37, Loss: 0.000005\n",
      "Epoch: 38, Loss: 0.000005\n",
      "Epoch: 39, Loss: 0.000005\n",
      "Epoch: 40, Loss: 0.000004\n",
      "Epoch: 41, Loss: 0.000004\n",
      "Epoch: 42, Loss: 0.000004\n",
      "Epoch: 43, Loss: 0.000003\n",
      "Epoch: 44, Loss: 0.000003\n",
      "Epoch: 45, Loss: 0.000003\n",
      "Epoch: 46, Loss: 0.000003\n",
      "Epoch: 47, Loss: 0.000003\n",
      "Epoch: 48, Loss: 0.000002\n",
      "Epoch: 49, Loss: 0.000002\n",
      "Epoch: 50, Loss: 0.000002\n",
      "Epoch: 51, Loss: 0.000002\n",
      "Epoch: 52, Loss: 0.000002\n",
      "Epoch: 53, Loss: 0.000002\n",
      "Epoch: 54, Loss: 0.000002\n",
      "Epoch: 55, Loss: 0.000002\n",
      "Epoch: 56, Loss: 0.000002\n",
      "Epoch: 57, Loss: 0.000001\n",
      "Epoch: 58, Loss: 0.000001\n",
      "Epoch: 59, Loss: 0.000001\n",
      "Epoch: 60, Loss: 0.000001\n",
      "Epoch: 61, Loss: 0.000001\n",
      "Epoch: 62, Loss: 0.000001\n",
      "Epoch: 63, Loss: 0.000001\n",
      "Epoch: 64, Loss: 0.000001\n",
      "Epoch: 65, Loss: 0.000001\n",
      "Epoch: 66, Loss: 0.000001\n",
      "Epoch: 67, Loss: 0.000001\n",
      "Epoch: 68, Loss: 0.000001\n",
      "Epoch: 69, Loss: 0.000001\n",
      "Epoch: 70, Loss: 0.000001\n",
      "Epoch: 71, Loss: 0.000001\n",
      "Epoch: 72, Loss: 0.000001\n",
      "Epoch: 73, Loss: 0.000001\n",
      "Epoch: 74, Loss: 0.000001\n",
      "Epoch: 75, Loss: 0.000001\n",
      "Epoch: 76, Loss: 0.000001\n",
      "Epoch: 77, Loss: 0.000001\n",
      "Epoch: 78, Loss: 0.000001\n",
      "Epoch: 79, Loss: 0.000001\n",
      "Epoch: 80, Loss: 0.000001\n",
      "Epoch: 81, Loss: 0.000001\n",
      "Epoch: 82, Loss: 0.000001\n",
      "Epoch: 83, Loss: 0.000001\n",
      "Epoch: 84, Loss: 0.000001\n",
      "Epoch: 85, Loss: 0.000001\n",
      "Epoch: 86, Loss: 0.000001\n",
      "Epoch: 87, Loss: 0.000001\n",
      "Epoch: 88, Loss: 0.000001\n",
      "Epoch: 89, Loss: 0.000001\n",
      "Epoch: 90, Loss: 0.000001\n",
      "Epoch: 91, Loss: 0.000001\n",
      "Epoch: 92, Loss: 0.000001\n",
      "Epoch: 93, Loss: 0.000001\n",
      "Epoch: 94, Loss: 0.000001\n",
      "Epoch: 95, Loss: 0.000001\n",
      "Epoch: 96, Loss: 0.000001\n",
      "Epoch: 97, Loss: 0.000001\n",
      "Epoch: 98, Loss: 0.000001\n",
      "Epoch: 99, Loss: 0.000001\n"
     ]
    }
   ],
   "source": [
    "best_loss = float('inf')\n",
    "loss_fn = nn.NLLLoss()\n",
    "n_epochs = 100\n",
    "for epoch in range(n_epochs):\n",
    "    for i in range(len(cifar2l)):\n",
    "        img, label = cifar2d_t[i] ,cifar2l_t[i]\n",
    "        out = model(img.view(-1).unsqueeze(0))\n",
    "        loss = loss_fn(out, torch.tensor([label]).byte())\n",
    "        optimizer.zero_grad()\n",
    "        loss.backward()\n",
    "        optimizer.step()\n",
    "        if loss < best_loss:\n",
    "            best_loss = loss\n",
    "            best_params = model.state_dict()\n",
    "    \n",
    "\n",
    "    print(\"Epoch: %d, Loss: %f\" % (epoch, float(loss)))"
   ]
  },
  {
   "cell_type": "markdown",
   "metadata": {},
   "source": [
    "In each epoch, the model is trained on the CIFAR-2 dataset (`cifar2d_t` and `cifar2l_t`) using mini-batch stochastic gradient descent. The `img` and `label` variables represent a mini-batch of images and labels, respectively. The `img.view(-1).unsqueeze(0)` function call reshapes the image tensor into a 1D tensor and adds a new dimension to represent the batch size. The model is then used to predict the label for the current image (`out`), and the NLL loss function is used to compute the difference between the predicted and true labels (`loss`). The optimizer is then used to update the model parameters based on the gradients of the loss function with respect to the model parameters.\n",
    "\n",
    "After each epoch, the current epoch number and loss value are printed to the console using the `print()` function. \n",
    "\n",
    "Note that the `torch.tensor([label]).byte()` call converts the label tensor to a byte tensor. This is because the `nn.NLLLoss()` function expects the label tensor to be a byte tensor with values in the range `[0, num_classes-1]`. If the label tensor is not a byte tensor, you may encounter a `RuntimeError` with a message similar to \"llm is not implemented for float\", that's what I got on `cuda`."
   ]
  },
  {
   "cell_type": "code",
   "execution_count": 35,
   "metadata": {},
   "outputs": [
    {
     "data": {
      "text/plain": [
       "'bird'"
      ]
     },
     "execution_count": 35,
     "metadata": {},
     "output_type": "execute_result"
    }
   ],
   "source": [
    "class_names[model(img_batch).argmax(dim=1)]"
   ]
  },
  {
   "cell_type": "code",
   "execution_count": 36,
   "metadata": {},
   "outputs": [
    {
     "name": "stderr",
     "output_type": "stream",
     "text": [
      "Clipping input data to the valid range for imshow with RGB data ([0..1] for floats or [0..255] for integers).\n",
      "Clipping input data to the valid range for imshow with RGB data ([0..1] for floats or [0..255] for integers).\n",
      "Clipping input data to the valid range for imshow with RGB data ([0..1] for floats or [0..255] for integers).\n",
      "Clipping input data to the valid range for imshow with RGB data ([0..1] for floats or [0..255] for integers).\n",
      "Clipping input data to the valid range for imshow with RGB data ([0..1] for floats or [0..255] for integers).\n",
      "Clipping input data to the valid range for imshow with RGB data ([0..1] for floats or [0..255] for integers).\n",
      "Clipping input data to the valid range for imshow with RGB data ([0..1] for floats or [0..255] for integers).\n",
      "Clipping input data to the valid range for imshow with RGB data ([0..1] for floats or [0..255] for integers).\n",
      "Clipping input data to the valid range for imshow with RGB data ([0..1] for floats or [0..255] for integers).\n"
     ]
    },
    {
     "data": {
      "image/png": "[encoded data removed]",
      "text/plain": [
       "<Figure size 1200x1200 with 9 Axes>"
      ]
     },
     "metadata": {},
     "output_type": "display_data"
    }
   ],
   "source": [
    "fig, ax = plt.subplots(3, 3, figsize=(6, 6))\n",
    "for i in range(3):\n",
    "    for j in range(3):\n",
    "        x = np.random.randint(0, 5000)\n",
    "        ax[j, i].imshow((cifar2d[x].permute(1, 2, 0)));\n",
    "        ax[j, i].axis(\"off\")\n",
    "        ax[j, i].title.set_text(class_names[model(cifar2d_t[x].view(-1).unsqueeze(0)).argmax(dim=1)])"
   ]
  },
  {
   "cell_type": "code",
   "execution_count": 38,
   "metadata": {},
   "outputs": [
    {
     "name": "stderr",
     "output_type": "stream",
     "text": [
      "Clipping input data to the valid range for imshow with RGB data ([0..1] for floats or [0..255] for integers).\n",
      "Clipping input data to the valid range for imshow with RGB data ([0..1] for floats or [0..255] for integers).\n",
      "Clipping input data to the valid range for imshow with RGB data ([0..1] for floats or [0..255] for integers).\n",
      "Clipping input data to the valid range for imshow with RGB data ([0..1] for floats or [0..255] for integers).\n",
      "Clipping input data to the valid range for imshow with RGB data ([0..1] for floats or [0..255] for integers).\n",
      "Clipping input data to the valid range for imshow with RGB data ([0..1] for floats or [0..255] for integers).\n",
      "Clipping input data to the valid range for imshow with RGB data ([0..1] for floats or [0..255] for integers).\n",
      "Clipping input data to the valid range for imshow with RGB data ([0..1] for floats or [0..255] for integers).\n",
      "Clipping input data to the valid range for imshow with RGB data ([0..1] for floats or [0..255] for integers).\n"
     ]
    },
    {
     "data": {
      "image/png": "[encoded data removed]",
      "text/plain": [
       "<Figure size 1200x1200 with 9 Axes>"
      ]
     },
     "metadata": {},
     "output_type": "display_data"
    }
   ],
   "source": [
    "fig, ax = plt.subplots(3, 3, figsize=(6, 6))\n",
    "for i in range(3):\n",
    "    for j in range(3):\n",
    "        x = np.random.randint(0, 500)\n",
    "        ax[j, i].imshow((cifar2d_val[x].permute(1, 2, 0)));\n",
    "        ax[j, i].axis(\"off\")\n",
    "        ax[j, i].title.set_text(class_names[model(cifar2d_val_t[x].view(-1).unsqueeze(0)).argmax(dim=1)])"
   ]
  },
  {
   "cell_type": "code",
   "execution_count": 39,
   "metadata": {},
   "outputs": [
    {
     "data": {
      "text/plain": [
       "(1.0, 0.8176)"
      ]
     },
     "execution_count": 39,
     "metadata": {},
     "output_type": "execute_result"
    }
   ],
   "source": [
    "#accuracy\n",
    "def correct(out, labels):\n",
    "    _,pred = torch.max(out, dim=1)\n",
    "    return pred == labels\n",
    "\n",
    "correct(model(cifar2d_t.view(len(cifar2l), -1)), cifar2l_t).cpu().numpy().mean(), correct(model(cifar2d_val_t.view(len(cifar2l_val), -1)), cifar2l_val_t).cpu().numpy().mean()\n"
   ]
  },
  {
   "cell_type": "markdown",
   "metadata": {},
   "source": [
    "## 7.3 Conclusion\n",
    "In this chapter, we learned how to solve a simple classification problem using PyTorch. We started with a dataset and built a model, which we trained by minimizing an appropriate loss in a training loop. These skills and tools are essential for building and training neural networks using PyTorch, and they will be useful throughout your journey with the framework.\n",
    "\n",
    "However, we discovered a limitation of our approach when dealing with 2D image data. Our model treated images as 1D data and did not take into account the translation invariance of the problem. In the next chapter, we will learn how to exploit the 2D nature of image data to get much better results.\n",
    "\n",
    "Despite this limitation, we can still use what we have learned to process other types of data that do not have translation invariance, such as tabular or time-series data. We could also use it on appropriately represented text data, although more advanced models may be needed for better performance. It is worth noting that the same caveat about translation invariance also applies to purely 1D data, such as audio data."
   ]
  },
  {
   "cell_type": "markdown",
   "metadata": {},
   "source": [
    "## 7.4 Excersises\n",
    "1. To implement random cropping of the data using torchvision, you can use the RandomCrop transform. Here are the answers to the questions:\n",
    "    * $a$ - The resulting images from random cropping will be different from the uncropped originals because they will be a random subset of the original image. This can help to increase the diversity of the training data and improve the model's ability to generalize to new images.\n",
    "\n",
    "    * $b$ - When you request the same image a second time, a different random crop will be selected. This can help to further increase the diversity of the training data.\n",
    "\n",
    "    * $c$ - Training using randomly cropped images can help to improve the performance of the model by increasing the diversity of the training data. This can help to reduce overfitting and improve the model's ability to generalize to new images.\n",
    "\n",
    "    2. Switching to a different loss function, such as mean squared error (MSE), can change the training behavior of the model. MSE places more emphasis on larger errors, so the model may prioritize reducing these errors over smaller ones. This can lead to a different trade-off between bias and variance, which can affect the model's performance.\n",
    "\n",
    "    3. It is possible to reduce the capacity of the network to reduce overfitting. This can be done by reducing the number of layers or the number of neurons in each layer. When doing so, the model's performance on the validation set may decrease initially, but it should eventually stabilize at a lower level of performance. The key is to find the right balance between model complexity and performance on the validation set."
   ]
  },
  {
   "cell_type": "markdown",
   "metadata": {},
   "source": [
    "## 7.5 Summary\n",
    "In summary, this chapter covered several key concepts and techniques related to computer vision and deep learning using PyTorch. We discussed the availability of annotated image datasets and how to load and sample them using DataLoaders. We also learned about the softmax function and cross entropy loss, which are commonly used for classification tasks.\n",
    "\n",
    "We noted that treating images as vectors of pixel values can make it harder to take advantage of the spatial relationships in the data, and introduced the idea of using convolutional neural networks (CNNs) to exploit these relationships. We also learned about the nn.Sequential function, which provides a simple way to create neural networks composed of multiple layers in PyTorch.\n",
    "\n",
    "Overall, this chapter provided a foundation for understanding the basics of computer vision and deep learning and how to implement them using PyTorch. These concepts and techniques will be important for building more advanced computer vision models in the future."
   ]
  },
  {
   "cell_type": "code",
   "execution_count": 40,
   "metadata": {},
   "outputs": [],
   "source": [
    "torch.save(cifar2d_t, data_path + 'cifar2d.pt')\n",
    "torch.save(cifar2l_t, data_path + 'cifar2l.pth')\n",
    "torch.save(cifar2d_val_t, data_path + 'cifar2d_val.pt')\n",
    "torch.save(cifar2l_val_t, data_path + 'cifar2l_val.pth')"
   ]
  }
 ],
 "metadata": {
  "kernelspec": {
   "display_name": "base",
   "language": "python",
   "name": "python3"
  },
  "language_info": {
   "codemirror_mode": {
    "name": "ipython",
    "version": 3
   },
   "file_extension": ".py",
   "mimetype": "text/x-python",
   "name": "python",
   "nbconvert_exporter": "python",
   "pygments_lexer": "ipython3",
   "version": "3.10.9"
  },
  "orig_nbformat": 4
 },
 "nbformat": 4,
 "nbformat_minor": 2
}
