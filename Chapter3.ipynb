{
 "cells": [
  {
   "cell_type": "code",
   "execution_count": 1,
   "metadata": {},
   "outputs": [],
   "source": [
    "import torch\n",
    "img_t = torch.abs(torch.randn((3, 5, 5)))    #<-- creates a tensor of the given size with values from a noramlly distributed random variable \n",
    "img_t /= torch.max(torch.abs(img_t))/255\n",
    "weights = torch.tensor([0.2126, 0.7152, 0.0722])    #<-- weights to transform colors into grayscale"
   ]
  },
  {
   "cell_type": "markdown",
   "metadata": {},
   "source": [
    "This code imports the PyTorch library and creates a 3-dimensional tensor `img_t` of size `(3, 5, 5)` with values drawn from a normal distribution using `torch.randn()`. \n",
    "\n",
    "The second line creates a tensor `weights` of size `(3,)` with the values `[0.2126, 0.7152, 0.0722]`. These values are the weights used to transform a color image into grayscale using a weighted sum of the color channels."
   ]
  },
  {
   "cell_type": "code",
   "execution_count": 2,
   "metadata": {},
   "outputs": [],
   "source": [
    "batch_t = torch.abs(torch.randn((2, 3, 5, 5)))     #<-- creates a tensor of the given size filled with RandN values\n",
    "batch_t /= torch.max(torch.abs(batch_t))/255                                                        # shape [batch, channels, rows, columns]\n",
    "                                                        # meaning we here have fabricated to \"images\" in the same batch"
   ]
  },
  {
   "cell_type": "markdown",
   "metadata": {},
   "source": [
    "This code creates a 4-dimensional tensor `batch_t` of size `(2, 3, 5, 5)` with values drawn from a normal distribution using `torch.randn()`. \n",
    "\n",
    "The first dimension of size `2` represents the batch size, meaning that `batch_t` contains two images in the same batch. The second dimension of size `3` represents the number of color channels in each image, which is usually 3 for RGB images. The last two dimensions of size `5` represent the height and width of each image."
   ]
  },
  {
   "cell_type": "code",
   "execution_count": 3,
   "metadata": {},
   "outputs": [
    {
     "data": {
      "text/plain": [
       "(torch.Size([5, 5]), torch.Size([2, 5, 5]))"
      ]
     },
     "execution_count": 3,
     "metadata": {},
     "output_type": "execute_result"
    }
   ],
   "source": [
    "img_gray_naive = img_t.mean(-3)     #<-- averages the values in the 3rd dimention from the end, aka. the colors dimension\n",
    "batch_grey_naive = batch_t.mean(-3) #<-- averages the values of the colors dimension, that's why we've chosen the 3rd from the end, it's because\n",
    "                                    #    we may have a batch dimension, meaning the colors' order may be the 0th or the 1st, but it will be\n",
    "                                    #    surely the 3rd from the end\n",
    "            \n",
    "img_gray_naive.shape, batch_grey_naive.shape"
   ]
  },
  {
   "cell_type": "markdown",
   "metadata": {},
   "source": [
    "This code computes the grayscale version of an image tensor `img_t` and a batch of image tensors `batch_t` using a naive method of averaging the color channels. \n",
    "\n",
    "The first line computes the grayscale version of `img_t` by taking the mean of the values in the third dimension from the end, which corresponds to the color channels. This results in a tensor of shape `(5, 5)`.\n",
    "\n",
    "The second line computes the grayscale version of `batch_t` by taking the mean of the values in the third dimension from the end, which corresponds to the color channels. Since `batch_t` has a batch dimension as the first dimension, the `mean` operation is applied to each image in the batch separately. This results in a tensor of shape `(2, 5, 5)`. \n",
    "\n",
    "The output of this code is a tuple containing the shapes of the grayscale image tensor and the grayscale batch tensor, which are `(5, 5)` and `(2, 5, 5)` respectively."
   ]
  },
  {
   "cell_type": "code",
   "execution_count": 4,
   "metadata": {},
   "outputs": [
    {
     "name": "stderr",
     "output_type": "stream",
     "text": [
      "Clipping input data to the valid range for imshow with RGB data ([0..1] for floats or [0..255] for integers).\n"
     ]
    },
    {
     "data": {
      "text/plain": [
       "<matplotlib.image.AxesImage at 0x7f53507941f0>"
      ]
     },
     "execution_count": 4,
     "metadata": {},
     "output_type": "execute_result"
    },
    {
     "data": {
      "image/png": "[encoded data removed]",
      "text/plain": [
       "<Figure size 640x480 with 1 Axes>"
      ]
     },
     "metadata": {},
     "output_type": "display_data"
    }
   ],
   "source": [
    "import matplotlib.pyplot as plt\n",
    "import numpy as np\n",
    "plt.imshow(img_t.permute(1, 2, 0).reshape(5, 5, 3).numpy().astype(np.int8))  #<-- permute the dimensions of the tensor, so that the colors dimension is the last one\n",
    "                                                                             #    so that imshow can plot it\n"
   ]
  },
  {
   "cell_type": "markdown",
   "metadata": {},
   "source": [
    "In PyTorch, images are typically formatted as tensors with shape `(batch_size, channels, height, width)`, or `BCHW` for short. The `channels` dimension refers to the number of color channels in the image, which is usually 3 for RGB images (red, green, blue). \n",
    "\n",
    "However, when displaying an image using `matplotlib`, the color channels are expected to be the last dimension, so the tensor needs to be permuted to have shape `(height, width, channels)` or `HWC`."
   ]
  },
  {
   "cell_type": "code",
   "execution_count": 5,
   "metadata": {},
   "outputs": [
    {
     "data": {
      "image/png": "[encoded data removed]",
      "text/plain": [
       "<Figure size 640x480 with 1 Axes>"
      ]
     },
     "metadata": {},
     "output_type": "display_data"
    }
   ],
   "source": [
    "plt.imshow(img_gray_naive, cmap='gray'); #<-- cmap is the color map, we can choose the color map we want to use"
   ]
  },
  {
   "cell_type": "markdown",
   "metadata": {},
   "source": [
    "This code displays a grayscale image `img_gray_naive` using the `imshow()` function from Matplotlib. The `cmap` parameter is used to specify the colormap to use for the image. In this case, the `'gray'` colormap is used, which displays the image in grayscale.\n",
    "\n",
    "The `imshow()` function expects the input data to be in the form of a 2D array or a 3D array with the last dimension being 3 or 4 (for RGB or RGBA images, respectively). If the input data is a 2D array, it is assumed to be a grayscale image.\n",
    "\n",
    "The `;` at the end of the line is used to suppress the output of the `imshow()` function, which would otherwise display the image object in the output cell."
   ]
  },
  {
   "cell_type": "code",
   "execution_count": 6,
   "metadata": {},
   "outputs": [
    {
     "name": "stderr",
     "output_type": "stream",
     "text": [
      "Clipping input data to the valid range for imshow with RGB data ([0..1] for floats or [0..255] for integers).\n",
      "Clipping input data to the valid range for imshow with RGB data ([0..1] for floats or [0..255] for integers).\n"
     ]
    },
    {
     "data": {
      "image/png": "[encoded data removed]",
      "text/plain": [
       "<Figure size 640x480 with 2 Axes>"
      ]
     },
     "metadata": {},
     "output_type": "display_data"
    }
   ],
   "source": [
    "fig, ax = plt.subplots(1, 2)    #<-- creates a figure with 1 row and 2 columns\n",
    "ax[0].imshow(batch_t[0].permute(1, 2, 0).reshape(5, 5, 3).numpy().astype(np.int8), cmap = 'viridis');\n",
    "ax[1].imshow(batch_t[1].permute(1, 2, 0).reshape(5, 5, 3).numpy().astype(np.int8), cmap = 'viridis');"
   ]
  },
  {
   "cell_type": "markdown",
   "metadata": {},
   "source": [
    "This code displays two images from a PyTorch tensor `batch_t` using the `imshow()` function from Matplotlib. The `fig, ax = plt.subplots(1, 2)` line creates a figure with 1 row and 2 columns, and returns a tuple containing the figure object and an array of two axes objects.\n",
    "\n",
    "The first image is displayed on the first axis object `ax[0]`. The PyTorch tensor `batch_t[0]` is first permuted to have dimensions `(height, width, channels)` using `permute(1, 2, 0)`, then reshaped to have dimensions `(5, 5, 3)` using `reshape(5, 5, 3)`. Finally, the resulting tensor is converted to a NumPy array using `.numpy()` and cast to the `int8` data type using `.astype(np.int8)`. The resulting NumPy array is then displayed using `imshow()` with the `'viridis'` colormap.\n",
    "\n",
    "The second image is displayed on the second axis object `ax[1]` using the same process as the first image.\n",
    "\n",
    "Note that casting the tensor to `int8` may not be appropriate for displaying the image, as it may result in loss of precision. It is usually better to cast the tensor to `float` instead."
   ]
  },
  {
   "cell_type": "code",
   "execution_count": 7,
   "metadata": {},
   "outputs": [
    {
     "data": {
      "image/png": "[encoded data removed]",
      "text/plain": [
       "<Figure size 640x480 with 2 Axes>"
      ]
     },
     "metadata": {},
     "output_type": "display_data"
    }
   ],
   "source": [
    "fig, ax = plt.subplots(1, 2)    #<-- creates a figure with 1 row and 2 columns\n",
    "ax[0].imshow(batch_grey_naive[0], cmap='gray');\n",
    "ax[1].imshow(batch_grey_naive[1], cmap='gray');"
   ]
  },
  {
   "cell_type": "markdown",
   "metadata": {},
   "source": [
    "This code displays two grayscale images from a PyTorch tensor `batch_grey_naive` using the `imshow()` function from Matplotlib. The `fig, ax = plt.subplots(1, 2)` line creates a figure with 1 row and 2 columns, and returns a tuple containing the figure object and an array of two axes objects.\n",
    "\n",
    "The first image is displayed on the first axis object `ax[0]` using `imshow()` with the `'gray'` colormap. The grayscale image is obtained from `batch_grey_naive[0]`, which is assumed to be a 2D tensor representing a single grayscale image.\n",
    "\n",
    "The second image is displayed on the second axis object `ax[1]` using the same process as the first image, but with `batch_grey_naive[1]` instead.\n",
    "\n",
    "Note that the `cmap` parameter is set to `'gray'` to indicate that the images are grayscale. If the images were in color, a different colormap would be used instead."
   ]
  },
  {
   "cell_type": "code",
   "execution_count": 8,
   "metadata": {},
   "outputs": [
    {
     "data": {
      "text/plain": [
       "(torch.Size([3]), torch.Size([2, 3, 5, 5]), torch.Size([3, 1, 1]))"
      ]
     },
     "execution_count": 8,
     "metadata": {},
     "output_type": "execute_result"
    }
   ],
   "source": [
    "unsqueezed_weights = weights.unsqueeze(-1).unsqueeze_(-1)\n",
    "img_gray_weighted = (img_t * unsqueezed_weights).sum(-3)    #<-- multiplies the tensor by the weights and then sums the values in the colors dimension\n",
    "batch_grey_weighted = (batch_t * unsqueezed_weights).sum(-3)\n",
    "weights.shape, batch_t.shape, unsqueezed_weights.shape"
   ]
  },
  {
   "cell_type": "markdown",
   "metadata": {},
   "source": [
    "This code calculates a weighted average of the pixel values in a PyTorch tensor `img_t` and a batch of tensors `batch_t`, using a weight tensor `weights`. The weight tensor `weights` has shape `(3,)`, which means it contains one weight value for each color channel (red, green, and blue).\n",
    "\n",
    "The first line of code `unsqueezed_weights = weights.unsqueeze(-1).unsqueeze_(-1)` unsqueezes the weight tensor twice along the last two dimensions, so that it has shape `(3, 1, 1)`. This allows the weight tensor to be broadcasted with the image tensors `img_t` and `batch_t` along the color channel dimension.\n",
    "\n",
    "The second line of code `img_gray_weighted = (img_t * unsqueezed_weights).sum(-3)` multiplies the image tensor `img_t` by the unsqueezed weight tensor `unsqueezed_weights`, and then sums the resulting values along the color channel dimension (`-3`). This produces a weighted average of the pixel values in the image tensor `img_t`, where the weights are given by the values in the weight tensor `weights`.\n",
    "\n",
    "The third line of code `batch_grey_weighted = (batch_t * unsqueezed_weights).sum(-3)` does the same thing as the second line of code, but for a batch of tensors `batch_t`.\n",
    "\n",
    "The last line of code `weights.shape, batch_t.shape, unsqueezed_weights.shape` prints the shapes of the weight tensor `weights`, the batch tensor `batch_t`, and the unsqueezed weight tensor `unsqueezed_weights`."
   ]
  },
  {
   "cell_type": "code",
   "execution_count": 9,
   "metadata": {},
   "outputs": [
    {
     "data": {
      "image/png": "[encoded data removed]",
      "text/plain": [
       "<Figure size 640x480 with 1 Axes>"
      ]
     },
     "metadata": {},
     "output_type": "display_data"
    }
   ],
   "source": [
    "plt.imshow(img_gray_weighted, cmap='gray'); #<-- cmap is the color map, we can choose the color map we want to use"
   ]
  },
  {
   "cell_type": "markdown",
   "metadata": {},
   "source": [
    "This code displays a grayscale image `img_gray_weighted` using the `imshow()` function from Matplotlib. The `cmap` parameter is used to specify the colormap to use for the image. In this case, the `'gray'` colormap is used, which displays the image in grayscale.\n",
    "\n",
    "The `imshow()` function expects the input data to be in the form of a 2D array or a 3D array with the last dimension being 3 or 4 (for RGB or RGBA images, respectively). If the input data is a 2D array, it is assumed to be a grayscale image.\n",
    "\n",
    "The `img_gray_weighted` tensor is obtained by calculating a weighted average of the pixel values in the original image tensor `img_t`, where the weights are given by the values in the weight tensor `weights`. The resulting tensor is then displayed using `imshow()` with the `'gray'` colormap."
   ]
  },
  {
   "cell_type": "code",
   "execution_count": 10,
   "metadata": {},
   "outputs": [
    {
     "data": {
      "image/png": "[encoded data removed]",
      "text/plain": [
       "<Figure size 640x480 with 2 Axes>"
      ]
     },
     "metadata": {},
     "output_type": "display_data"
    }
   ],
   "source": [
    "fig, ax = plt.subplots(1, 2)    #<-- creates a figure with 1 row and 2 columns\n",
    "ax[0].imshow(batch_grey_weighted[0], cmap='gray');\n",
    "ax[1].imshow(batch_grey_weighted[1], cmap='gray');"
   ]
  },
  {
   "cell_type": "markdown",
   "metadata": {},
   "source": [
    "This code displays two grayscale images from a batch of PyTorch tensors `batch_grey_weighted` using the `imshow()` function from Matplotlib. The `fig, ax = plt.subplots(1, 2)` line creates a figure with 1 row and 2 columns, and returns a tuple containing the figure object and an array of two axes objects.\n",
    "\n",
    "The first image is displayed on the first axis object `ax[0]` using `imshow()` with the `'gray'` colormap. The grayscale image is obtained from `batch_grey_weighted[0]`, which is assumed to be a 2D tensor representing a single grayscale image.\n",
    "\n",
    "The second image is displayed on the second axis object `ax[1]` using the same process as the first image, but with `batch_grey_weighted[1]` instead.\n",
    "\n"
   ]
  },
  {
   "cell_type": "code",
   "execution_count": 11,
   "metadata": {},
   "outputs": [
    {
     "data": {
      "text/plain": [
       "torch.Size([2, 5, 5])"
      ]
     },
     "execution_count": 11,
     "metadata": {},
     "output_type": "execute_result"
    }
   ],
   "source": [
    "img_gray_weighted_fancy = torch.einsum('...chw,c->...hw', img_t, weights)\n",
    "batch_gray_weighted_fancy = torch.einsum('...chw,c->...hw', batch_t, weights)\n",
    "batch_gray_weighted_fancy.shape"
   ]
  },
  {
   "cell_type": "markdown",
   "metadata": {},
   "source": [
    "This code calculates a weighted average of the pixel values in a PyTorch tensor `img_t` and a batch of tensors `batch_t`, using a weight tensor `weights`. The weight tensor `weights` has shape `(3,)`, which means it contains one weight value for each color channel (red, green, and blue).\n",
    "\n",
    "The `torch.einsum()` function is used to perform a matrix multiplication between the image tensors and the weight tensor. The `'...chw,c->...hw'` string specifies the matrix multiplication operation to be performed. The `...` notation is used to indicate that the operation should be performed over all dimensions of the input tensors except for the last two dimensions (`height` and `width`). The `c` dimension of the weight tensor is multiplied with the `chw` dimensions of the image tensors, and the resulting values are summed over the `c` dimension. The resulting tensor has the same shape as the input tensors, except for the last dimension (`color`), which is removed.\n",
    "\n",
    "The resulting tensor `img_gray_weighted_fancy` is a weighted average of the pixel values in the image tensor `img_t`, where the weights are given by the values in the weight tensor `weights`. The same process is applied to the batch of tensors `batch_t` to obtain the tensor `batch_gray_weighted_fancy`.\n",
    "\n",
    "The last line of code `batch_gray_weighted_fancy.shape` prints the shape of the tensor `batch_gray_weighted_fancy`, which is `(2, 5, 5)` in this case."
   ]
  },
  {
   "cell_type": "markdown",
   "metadata": {},
   "source": [
    "Named tensors in PyTorch allow users to give explicit names to tensor dimensions, which can be used to avoid the need to track dimensions by position. Named tensors use names to automatically check that APIs are being used correctly at runtime, providing extra safety.\n",
    "\n",
    "Here is an example of how named tensors can be used in PyTorch:\n",
    "\n",
    "```python\n",
    "import torch\n",
    "\n",
    "# Create a tensor with named dimensions\n",
    "x = torch.randn({'batch': 32, 'channel': 3, 'height': 224, 'width': 224}, names=('batch', 'channel', 'height', 'width'))\n",
    "\n",
    "# Sum over the height dimension\n",
    "y = x.sum('height')\n",
    "\n",
    "print(y.names)\n",
    "```\n",
    "\n",
    "This will output:\n",
    "\n",
    "```python\n",
    "('batch', 'channel', 'width')\n",
    "```\n",
    "\n",
    "In this example, we created a tensor `x` with named dimensions and then summed over the height dimension using `x.sum('height')`. The resulting tensor `y` has the same named dimensions as `x`, except that the height dimension has been removed."
   ]
  },
  {
   "cell_type": "code",
   "execution_count": 12,
   "metadata": {},
   "outputs": [
    {
     "name": "stderr",
     "output_type": "stream",
     "text": [
      "/tmp/ipykernel_2747/2371314847.py:1: UserWarning: Named tensors and all their associated APIs are an experimental feature and subject to change. Please do not use them for anything important until they are released as stable. (Triggered internally at /croot/pytorch_1686931851744/work/c10/core/TensorImpl.h:1788.)\n",
      "  weights_named = torch.tensor([0.2126, 0.7152, 0.0722], names=['channels'])\n"
     ]
    },
    {
     "data": {
      "text/plain": [
       "tensor([0.2126, 0.7152, 0.0722], names=('channels',))"
      ]
     },
     "execution_count": 12,
     "metadata": {},
     "output_type": "execute_result"
    }
   ],
   "source": [
    "weights_named = torch.tensor([0.2126, 0.7152, 0.0722], names=['channels'])\n",
    "weights_named"
   ]
  },
  {
   "cell_type": "code",
   "execution_count": 13,
   "metadata": {},
   "outputs": [
    {
     "name": "stdout",
     "output_type": "stream",
     "text": [
      "img named: torch.Size([3, 5, 5]) ('channels', 'rows', 'columns')\n",
      "batch named: torch.Size([2, 3, 5, 5]) ('batches', 'channels', 'rows', 'columns')\n"
     ]
    }
   ],
   "source": [
    "img_named = img_t.refine_names(..., 'channels', 'rows', 'columns')\n",
    "batch_named = batch_t.refine_names(..., 'batches' ,'channels', 'rows', 'columns')\n",
    "print(\"img named:\", img_named.shape, img_named.names)\n",
    "print(\"batch named:\", batch_named.shape, batch_named.names)"
   ]
  },
  {
   "cell_type": "code",
   "execution_count": 14,
   "metadata": {},
   "outputs": [
    {
     "name": "stdout",
     "output_type": "stream",
     "text": [
      "batch named: torch.Size([2, 3, 5, 5]) (None, 'channels', 'rows', 'columns')\n"
     ]
    }
   ],
   "source": [
    "batch_named = batch_named.rename(None, ...)\n",
    "print(\"batch named:\", batch_named.shape, batch_named.names)"
   ]
  },
  {
   "cell_type": "code",
   "execution_count": 15,
   "metadata": {},
   "outputs": [
    {
     "data": {
      "text/plain": [
       "(torch.Size([3, 1, 1]), ('channels', 'rows', 'columns'))"
      ]
     },
     "execution_count": 15,
     "metadata": {},
     "output_type": "execute_result"
    }
   ],
   "source": [
    "weights_aligned = weights_named.align_as(img_named)\n",
    "weights_aligned.shape, weights_aligned.names"
   ]
  },
  {
   "cell_type": "code",
   "execution_count": 16,
   "metadata": {},
   "outputs": [
    {
     "name": "stdout",
     "output_type": "stream",
     "text": [
      "img aligned: torch.Size([1, 3, 5, 5]) (None, 'channels', 'rows', 'columns')\n"
     ]
    }
   ],
   "source": [
    "img_aligned = img_named.align_as(batch_named)\n",
    "print(\"img aligned:\", img_aligned.shape, img_aligned.names)"
   ]
  },
  {
   "cell_type": "code",
   "execution_count": 17,
   "metadata": {},
   "outputs": [
    {
     "data": {
      "text/plain": [
       "(torch.Size([5, 5]), ('rows', 'columns'))"
      ]
     },
     "execution_count": 17,
     "metadata": {},
     "output_type": "execute_result"
    }
   ],
   "source": [
    "gray_named = (img_named * weights_aligned).sum('channels')   #<-- sum over channels\n",
    "gray_named.shape, gray_named.names"
   ]
  },
  {
   "cell_type": "code",
   "execution_count": 18,
   "metadata": {},
   "outputs": [
    {
     "data": {
      "text/plain": [
       "(torch.Size([5, 5]), (None, None))"
      ]
     },
     "execution_count": 18,
     "metadata": {},
     "output_type": "execute_result"
    }
   ],
   "source": [
    "gray_plain = gray_named.rename(None)\n",
    "gray_plain.shape, gray_plain.names"
   ]
  },
  {
   "cell_type": "code",
   "execution_count": 19,
   "metadata": {},
   "outputs": [
    {
     "data": {
      "text/plain": [
       "tensor([0., 0., 0., 0., 0.], dtype=torch.float64)"
      ]
     },
     "execution_count": 19,
     "metadata": {},
     "output_type": "execute_result"
    }
   ],
   "source": [
    "points_64 = torch.rand(5, dtype=torch.double)\n",
    "points_short = points_64.to(torch.short) # = points_64.short()\n",
    "points_64 * points_short # works from PyTorch 1.3 onwards"
   ]
  },
  {
   "cell_type": "markdown",
   "metadata": {},
   "source": [
    "This code creates a PyTorch tensor `points_64` with shape `(5,)` and data type `torch.double`. The `torch.rand()` function is used to generate random values for the tensor.\n",
    "\n",
    "The second line of code `points_short = points_64.to(torch.short)` creates a new tensor `points_short` with the same values as `points_64`, but with a different data type `torch.short`. The `to()` method is used to convert the data type of the tensor.\n",
    "\n",
    "The third line of code `points_64 * points_short` performs an element-wise multiplication between the two tensors `points_64` and `points_short`. This operation works from PyTorch 1.3 onwards, because it requires the two tensors to have the same data type. The resulting tensor has the same shape as the input tensors, and contains the element-wise product of the corresponding elements in the input tensors."
   ]
  },
  {
   "cell_type": "code",
   "execution_count": 20,
   "metadata": {},
   "outputs": [
    {
     "data": {
      "text/plain": [
       "(torch.Size([3, 2]), torch.Size([2, 3]))"
      ]
     },
     "execution_count": 20,
     "metadata": {},
     "output_type": "execute_result"
    }
   ],
   "source": [
    "a = torch.ones(3, 2)\n",
    "a_t = a.transpose(0, 1)\n",
    "a.shape, a_t.shape"
   ]
  },
  {
   "cell_type": "markdown",
   "metadata": {},
   "source": [
    "This code creates a PyTorch tensor `a` with shape `(3, 2)` and fills it with ones. The `torch.ones()` function is used to create the tensor.\n",
    "\n",
    "The second line of code `a_t = a.transpose(0, 1)` creates a new tensor `a_t` that is the transpose of `a`. The `transpose()` method is used to transpose the tensor, and the arguments `0` and `1` specify the dimensions to swap. In this case, the first dimension (`3`) is swapped with the second dimension (`2`), resulting in a tensor with shape `(2, 3)`.\n",
    "\n",
    "The last line of code `a.shape, a_t.shape` prints the shapes of the tensors `a` and `a_t`, which are `(3, 2)` and `(2, 3)` respectively."
   ]
  },
  {
   "cell_type": "markdown",
   "metadata": {},
   "source": [
    "These are the main categories of operations that can be performed on PyTorch tensors:\n",
    "\n",
    "- Creation ops: Functions for constructing a tensor, like `ones` and `from_numpy`.\n",
    "- Indexing, slicing, joining, mutating ops: Functions for changing the shape, stride, or content of a tensor, like `transpose`.\n",
    "- Math ops: Functions for manipulating the content of the tensor through computations.\n",
    "  - Pointwise ops: Functions for obtaining a new tensor by applying a function to each element independently, like `abs` and `cos`.\n",
    "  - Reduction ops: Functions for computing aggregate values by iterating through tensors, like `mean`, `std`, and `norm`.\n",
    "  - Comparison ops: Functions for evaluating numerical predicates over tensors, like `equal` and `max`.\n",
    "  - Spectral ops: Functions for transforming in and operating in the frequency domain, like `stft` and `hamming_window`.\n",
    "  - Other operations: Special functions operating on vectors, like `cross`, or matrices, like `trace`.\n",
    "  - BLAS and LAPACK operations: Functions following the Basic Linear Algebra Subprograms (BLAS) specification for scalar, vector-vector, matrix-vector, and matrix-matrix operations.\n",
    "- Random sampling: Functions for generating values by drawing randomly from probability distributions, like `randn` and `normal`.\n",
    "- Serialization: Functions for saving and loading tensors, like `load` and `save`.\n",
    "- Parallelism: Functions for controlling the number of threads for parallel CPU execution, like `set_num_threads`."
   ]
  },
  {
   "cell_type": "markdown",
   "metadata": {},
   "source": [
    "## 3.14 Exercises\n",
    "1. Create a tensor a from list(range(9)). Predict and then check the size, offset,\n",
    "and stride.\n",
    "\n",
    "    * $a$ - Create a new tensor using b = a.view(3, 3). What does view do? Check\n",
    "      that a and b share the same storage.\n",
    "    * $b$ - Create a tensor c = b[1:,1:]. Predict and then check the size, offset, and\n",
    "      stride.\n",
    "      \n",
    "2. Pick a mathematical operation like cosine or square root. Can you find a corresponding function in the torch library?\n",
    "    * $a$ - Apply the function element-wise to a. Why does it return an error?\n",
    "    * $b$ - What operation is required to make the function work?\n",
    "    * $c$ - Is there a version of your function that operates in place?"
   ]
  },
  {
   "cell_type": "markdown",
   "metadata": {},
   "source": [
    "1. \n",
    "\n",
    "$a$ - This code creates a PyTorch tensor `a` from a list of integers using the `torch.tensor()` function:\n",
    "\n"
   ]
  },
  {
   "cell_type": "code",
   "execution_count": 21,
   "metadata": {},
   "outputs": [],
   "source": [
    "a = torch.tensor(list(range(9)))"
   ]
  },
  {
   "cell_type": "markdown",
   "metadata": {},
   "source": [
    "\n",
    "\n",
    "The tensor `a` has size `(9,)`, offset `0`, and stride `(1,)`. This means that the tensor has one dimension of size 9, starts at index 0 in memory, and has a stride of 1 between adjacent elements.\n",
    "\n",
    "$b$ - This code creates a new tensor `b` by reshaping `a` into a 3x3 tensor using the `view()` method:\n",
    "\n"
   ]
  },
  {
   "cell_type": "code",
   "execution_count": 22,
   "metadata": {},
   "outputs": [],
   "source": [
    "b = a.view(3, 3)"
   ]
  },
  {
   "cell_type": "markdown",
   "metadata": {},
   "source": [
    "\n",
    "\n",
    "The `view()` method returns a new tensor with the same data as the original tensor, but with a different shape. In this case, the tensor `b` has size `(3, 3)` and shares the same storage as `a` but has a stride of $(3, 1)$.\n",
    "\n",
    "$c$ - This code creates a tensor `c` by selecting a sub-tensor of `b` using slicing:\n",
    "\n"
   ]
  },
  {
   "cell_type": "code",
   "execution_count": 23,
   "metadata": {},
   "outputs": [],
   "source": [
    "c = b[1:, 1:]"
   ]
  },
  {
   "cell_type": "markdown",
   "metadata": {},
   "source": [
    "\n",
    "\n",
    "The tensor `c` has size `(2, 2)`, offset `4`, and stride `(3, 1)`. This means that the tensor has two dimensions of size 2, starts at index 4 in memory (which corresponds to the element at row 1, column 1 of `b`), and has a stride of 3 between adjacent rows and a stride of 1 between adjacent columns.\n",
    "\n",
    "2.\n",
    "\n",
    "$a$ - PyTorch provides several mathematical functions, including cosine and square root. For example, the `torch.cos()` function can be used to compute the cosine of a tensor element-wise:\n",
    "\n"
   ]
  },
  {
   "cell_type": "code",
   "execution_count": 24,
   "metadata": {},
   "outputs": [],
   "source": [
    "a_cos = torch.cos(a)"
   ]
  },
  {
   "cell_type": "markdown",
   "metadata": {},
   "source": [
    "\n",
    "\n",
    "$b$ - The `torch.cos()` function expects the input tensor to be in radians, but the tensor `a` contains integers. To make the function work, we need to convert the tensor to radians first. For example, we can use the `torch.deg2rad()` function to convert the tensor to radians:\n",
    "\n"
   ]
  },
  {
   "cell_type": "code",
   "execution_count": 25,
   "metadata": {},
   "outputs": [],
   "source": [
    "a_rad = torch.deg2rad(a)\n",
    "a_cos = torch.cos(a_rad)"
   ]
  },
  {
   "cell_type": "markdown",
   "metadata": {},
   "source": [
    "\n",
    "\n",
    "$c$ - Yes, there is an in-place version of the `torch.cos()` function called `torch.cos_()`. The in-place version modifies the input tensor directly instead of returning a new tensor:\n",
    "\n"
   ]
  },
  {
   "cell_type": "code",
   "execution_count": 26,
   "metadata": {},
   "outputs": [
    {
     "data": {
      "text/plain": [
       "tensor([1.0000, 0.9998, 0.9994, 0.9986, 0.9976, 0.9962, 0.9945, 0.9925, 0.9903])"
      ]
     },
     "execution_count": 26,
     "metadata": {},
     "output_type": "execute_result"
    }
   ],
   "source": [
    "a_rad.cos_()"
   ]
  },
  {
   "cell_type": "markdown",
   "metadata": {},
   "source": [
    "## 3.15 Summary\n",
    "1. Neural networks transform floating-point representations into other floating\u0002point representations. The starting and ending representations are typically\n",
    "human interpretable, but the intermediate representations are less so.\n",
    "2. These floating-point representations are stored in tensors.\n",
    "3. Tensors are multidimensional arrays; they are the basic data structure in\n",
    "PyTorch."
   ]
  }
 ],
 "metadata": {
  "kernelspec": {
   "display_name": "base",
   "language": "python",
   "name": "python3"
  },
  "language_info": {
   "codemirror_mode": {
    "name": "ipython",
    "version": 3
   },
   "file_extension": ".py",
   "mimetype": "text/x-python",
   "name": "python",
   "nbconvert_exporter": "python",
   "pygments_lexer": "ipython3",
   "version": "3.10.9"
  },
  "orig_nbformat": 4
 },
 "nbformat": 4,
 "nbformat_minor": 2
}
